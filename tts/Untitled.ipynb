{
 "cells": [
  {
   "cell_type": "code",
   "execution_count": null,
   "metadata": {},
   "outputs": [
    {
     "name": "stdout",
     "output_type": "stream",
     "text": [
      "https://glados.biringa.com/list.php?page=0\n"
     ]
    }
   ],
   "source": [
    "from bs4 import BeautifulSoup as bs\n",
    "import pandas as pd\n",
    "from tqdm import tqdm\n",
    "\n",
    "import requests, urllib, uuid, os, sys\n",
    "import multiprocessing as mp\n",
    "\n",
    "target_path = '../glados_voices'\n",
    "base_url = 'https://glados.biringa.com'\n",
    "\n",
    "def process(link_url, link_title, dirname):\n",
    "    if 'download.php' in link_url:\n",
    "        try:\n",
    "            hash_value = link_url.split('=')[1]\n",
    "            filename = '%s/%s.wav' % (dirname, hash_value)\n",
    "            filepath = os.path.join(target_path, filename)\n",
    "\n",
    "            urllib.request.urlretrieve(base_url + link_url, filepath)\n",
    "        except:\n",
    "            print('failed %s - %s' % (dirname, link_url))\n",
    "            return False\n",
    "\n",
    "        return {'file': filename, 'title': link_title, 'url': link_url, 'hash': hash_value}\n",
    "\n",
    "    return False\n",
    "\n",
    "n = 0\n",
    "def cb(x):\n",
    "    global n, df, df_all\n",
    "\n",
    "    if x is not False:\n",
    "        df = df.append(x, ignore_index=True)\n",
    "        df_all = df_all.append(x, ignore_index=True)\n",
    "\n",
    "    n += 1\n",
    "    sys.stdout.write('\\r%s/%s' % (n, '?'))\n",
    "    sys.stdout.flush()\n",
    "\n",
    "if __name__ == '__main__':\n",
    "    df = pd.DataFrame(columns=['file', 'title', 'url', 'hash'])\n",
    "    df_all = pd.DataFrame(columns=['file', 'title', 'url', 'hash'])\n",
    "\n",
    "    pool = mp.Pool(processes=mp.cpu_count())\n",
    "\n",
    "    for i in range(0, 245):\n",
    "        current_url = base_url + '/list.php?page=%s' % i\n",
    "        print(current_url)\n",
    "\n",
    "        code = requests.get(current_url)\n",
    "        parsed_html = bs(code.text, 'html.parser')\n",
    "        a_list = parsed_html.findAll('a')\n",
    "\n",
    "        dirname = str(i).zfill(3)\n",
    "        os.makedirs(os.path.join(target_path, dirname), exist_ok=True)\n",
    "\n",
    "        results = []\n",
    "        df = pd.DataFrame(columns=['file', 'title', 'url', 'hash'])\n",
    "\n",
    "        for link in a_list:\n",
    "            link_url = link.get('href')\n",
    "            link_title = link.get('title')\n",
    "\n",
    "            result = pool.apply_async(process, (link_url, link_title, dirname), callback=cb)\n",
    "\n",
    "            results.append(result)\n",
    "\n",
    "        for r in results:\n",
    "            r.wait()\n",
    "\n",
    "        df.to_csv(os.path.join(target_path, dirname, 'metadata.csv'), index=False, header=False)\n",
    "\n",
    "    df_all.to_csv(os.path.join(target_path, 'metadata.csv'), index=False, header=False)\n"
   ]
  },
  {
   "cell_type": "code",
   "execution_count": null,
   "metadata": {},
   "outputs": [],
   "source": []
  }
 ],
 "metadata": {
  "kernelspec": {
   "display_name": "Python 3",
   "language": "python",
   "name": "python3"
  },
  "language_info": {
   "codemirror_mode": {
    "name": "ipython",
    "version": 3
   },
   "file_extension": ".py",
   "mimetype": "text/x-python",
   "name": "python",
   "nbconvert_exporter": "python",
   "pygments_lexer": "ipython3",
   "version": "3.7.3"
  }
 },
 "nbformat": 4,
 "nbformat_minor": 2
}
