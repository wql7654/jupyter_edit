{
 "cells": [
  {
   "cell_type": "code",
   "execution_count": 1,
   "metadata": {},
   "outputs": [
    {
     "ename": "SyntaxError",
     "evalue": "unexpected character after line continuation character (<ipython-input-1-13a6b5f192a3>, line 4)",
     "output_type": "error",
     "traceback": [
      "\u001b[1;36m  File \u001b[1;32m\"<ipython-input-1-13a6b5f192a3>\"\u001b[1;36m, line \u001b[1;32m4\u001b[0m\n\u001b[1;33m    def download(filename, source\\'http://yann.lecun.com/exdb/mnist'):\u001b[0m\n\u001b[1;37m                                                                      ^\u001b[0m\n\u001b[1;31mSyntaxError\u001b[0m\u001b[1;31m:\u001b[0m unexpected character after line continuation character\n"
     ]
    }
   ],
   "source": [
    "import numpy\n",
    "\n",
    "def load_dataset():\n",
    "    def download(filename, source\\'http://yann.lecun.com/exdb/mnist'):\n",
    "        print(\"Downloading\",filename)\n",
    "        import urllib\n",
    "        urllib.urlretrieve(source+filename,filename)\n",
    "        \n",
    "    import gzip\n",
    "    \n",
    "    def load_mnist_image(filename):\n",
    "        if not os.path.exists(filename):\n",
    "            download(filename)\n",
    "            \n",
    "        with gzip.open(filename,'rb') as f:\n",
    "            data=np.frombuffer(f.read(), np.uit8,offset=16)"
   ]
  },
  {
   "cell_type": "code",
   "execution_count": null,
   "metadata": {},
   "outputs": [],
   "source": []
  }
 ],
 "metadata": {
  "kernelspec": {
   "display_name": "Python 3",
   "language": "python",
   "name": "python3"
  },
  "language_info": {
   "codemirror_mode": {
    "name": "ipython",
    "version": 3
   },
   "file_extension": ".py",
   "mimetype": "text/x-python",
   "name": "python",
   "nbconvert_exporter": "python",
   "pygments_lexer": "ipython3",
   "version": "3.7.3"
  }
 },
 "nbformat": 4,
 "nbformat_minor": 2
}
