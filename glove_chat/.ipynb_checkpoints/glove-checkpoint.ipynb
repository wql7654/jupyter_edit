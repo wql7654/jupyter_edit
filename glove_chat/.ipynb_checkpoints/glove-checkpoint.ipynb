{
 "cells": [
  {
   "cell_type": "code",
   "execution_count": 1,
   "metadata": {},
   "outputs": [],
   "source": [
    "\n",
    "#First you have to build your vocab\n",
    "#for example I am going to take only five sentence as dataset\n",
    "\n",
    "\n",
    "\n",
    "\n",
    "dataset = ['I like going to the cinema.',\n",
    "           'Mum is going to cook spinach tonight.',\n",
    "           'Do you think they are going to win the match ?',\n",
    "           'Are you going to the United States ?',\n",
    "           \"He doesn't like playing video games.\"\n",
    "          ]"
   ]
  },
  {
   "cell_type": "code",
   "execution_count": 2,
   "metadata": {},
   "outputs": [],
   "source": [
    "#build vocab \n",
    "\n",
    "#you can also remove stopwords if you want\n",
    "\n",
    "vocab=[]\n",
    "\n",
    "symbols = {0: 'PAD',1: 'UNK'}\n",
    "\n",
    "for sentence in dataset:\n",
    "    for word in sentence.split():\n",
    "        vocab.append(word.lower())\n",
    "\n",
    "vocab = list(set(vocab))"
   ]
  },
  {
   "cell_type": "code",
   "execution_count": 4,
   "metadata": {},
   "outputs": [
    {
     "ename": "UnicodeDecodeError",
     "evalue": "'cp949' codec can't decode byte 0xe2 in position 5454: illegal multibyte sequence",
     "output_type": "error",
     "traceback": [
      "\u001b[1;31m---------------------------------------------------------------------------\u001b[0m",
      "\u001b[1;31mUnicodeDecodeError\u001b[0m                        Traceback (most recent call last)",
      "\u001b[1;32m<ipython-input-4-7c0c709f20cc>\u001b[0m in \u001b[0;36m<module>\u001b[1;34m\u001b[0m\n\u001b[0;32m     24\u001b[0m     \u001b[1;32mreturn\u001b[0m \u001b[1;33m{\u001b[0m\u001b[1;34m'word_vocab'\u001b[0m\u001b[1;33m:\u001b[0m \u001b[0mword_vocab\u001b[0m\u001b[1;33m,\u001b[0m\u001b[1;34m'Embedding_matrix'\u001b[0m\u001b[1;33m:\u001b[0m \u001b[0mnp\u001b[0m\u001b[1;33m.\u001b[0m\u001b[0mreshape\u001b[0m\u001b[1;33m(\u001b[0m\u001b[0membedding_matrix\u001b[0m\u001b[1;33m,\u001b[0m\u001b[1;33m[\u001b[0m\u001b[1;33m-\u001b[0m\u001b[1;36m1\u001b[0m\u001b[1;33m,\u001b[0m\u001b[1;36m100\u001b[0m\u001b[1;33m]\u001b[0m\u001b[1;33m)\u001b[0m\u001b[1;33m.\u001b[0m\u001b[0mastype\u001b[0m\u001b[1;33m(\u001b[0m\u001b[0mnp\u001b[0m\u001b[1;33m.\u001b[0m\u001b[0mfloat32\u001b[0m\u001b[1;33m)\u001b[0m\u001b[1;33m}\u001b[0m\u001b[1;33m\u001b[0m\u001b[1;33m\u001b[0m\u001b[0m\n\u001b[0;32m     25\u001b[0m \u001b[1;33m\u001b[0m\u001b[0m\n\u001b[1;32m---> 26\u001b[1;33m \u001b[0mprint\u001b[0m\u001b[1;33m(\u001b[0m\u001b[0mword_embedding_matrix\u001b[0m\u001b[1;33m(\u001b[0m\u001b[1;34m'./glove.6B.100d.txt'\u001b[0m\u001b[1;33m,\u001b[0m\u001b[0mvocab\u001b[0m\u001b[1;33m,\u001b[0m\u001b[1;36m100\u001b[0m\u001b[1;33m)\u001b[0m\u001b[1;33m[\u001b[0m\u001b[1;34m'Embedding_matrix'\u001b[0m\u001b[1;33m]\u001b[0m\u001b[1;33m[\u001b[0m\u001b[1;36m2\u001b[0m\u001b[1;33m]\u001b[0m\u001b[1;33m)\u001b[0m\u001b[1;33m\u001b[0m\u001b[1;33m\u001b[0m\u001b[0m\n\u001b[0m",
      "\u001b[1;32m<ipython-input-4-7c0c709f20cc>\u001b[0m in \u001b[0;36mword_embedding_matrix\u001b[1;34m(embedding_path, vocab, dim)\u001b[0m\n\u001b[0;32m     16\u001b[0m \u001b[1;33m\u001b[0m\u001b[0m\n\u001b[0;32m     17\u001b[0m \u001b[1;33m\u001b[0m\u001b[0m\n\u001b[1;32m---> 18\u001b[1;33m         \u001b[1;32mfor\u001b[0m \u001b[0mline\u001b[0m \u001b[1;32min\u001b[0m \u001b[0mf\u001b[0m\u001b[1;33m:\u001b[0m\u001b[1;33m\u001b[0m\u001b[1;33m\u001b[0m\u001b[0m\n\u001b[0m\u001b[0;32m     19\u001b[0m             \u001b[1;32mif\u001b[0m \u001b[0mline\u001b[0m\u001b[1;33m.\u001b[0m\u001b[0msplit\u001b[0m\u001b[1;33m(\u001b[0m\u001b[1;33m)\u001b[0m\u001b[1;33m[\u001b[0m\u001b[1;36m0\u001b[0m\u001b[1;33m]\u001b[0m \u001b[1;32min\u001b[0m \u001b[0mvocab\u001b[0m\u001b[1;33m:\u001b[0m\u001b[1;33m\u001b[0m\u001b[1;33m\u001b[0m\u001b[0m\n\u001b[0;32m     20\u001b[0m                 \u001b[0mword_vocab\u001b[0m\u001b[1;33m.\u001b[0m\u001b[0mappend\u001b[0m\u001b[1;33m(\u001b[0m\u001b[0mline\u001b[0m\u001b[1;33m.\u001b[0m\u001b[0msplit\u001b[0m\u001b[1;33m(\u001b[0m\u001b[1;33m)\u001b[0m\u001b[1;33m[\u001b[0m\u001b[1;36m0\u001b[0m\u001b[1;33m]\u001b[0m\u001b[1;33m)\u001b[0m\u001b[1;33m\u001b[0m\u001b[1;33m\u001b[0m\u001b[0m\n",
      "\u001b[1;31mUnicodeDecodeError\u001b[0m: 'cp949' codec can't decode byte 0xe2 in position 5454: illegal multibyte sequence"
     ]
    }
   ],
   "source": [
    "#first method\n",
    "\n",
    "import numpy as np\n",
    "#load glove or any word embedding\n",
    "\n",
    "def word_embedding_matrix(embedding_path,vocab,dim):\n",
    "    \n",
    "    #first and second vector are pad and unk words\n",
    "    \n",
    "    with open(embedding_path,'r') as f:\n",
    "        word_vocab =[]\n",
    "        embedding_matrix = []\n",
    "        word_vocab.extend(['PAD','UNK'])\n",
    "        embedding_matrix.append(np.random.uniform(-1.0, 1.0, (1,100))[0])\n",
    "        embedding_matrix.append(np.random.uniform(-1.0, 1.0, (1,100))[0])\n",
    "\n",
    "        \n",
    "        for line in f:\n",
    "            if line.split()[0] in vocab:\n",
    "                word_vocab.append(line.split()[0])\n",
    "                embedding_matrix.append([float(i) for i in line.split()[1:]])\n",
    "                \n",
    "        \n",
    "    return {'word_vocab': word_vocab,'Embedding_matrix': np.reshape(embedding_matrix,[-1,100]).astype(np.float32)}\n",
    "\n",
    "print(word_embedding_matrix('./glove.6B.100d.txt',vocab,100)['Embedding_matrix'][2])"
   ]
  },
  {
   "cell_type": "code",
   "execution_count": null,
   "metadata": {},
   "outputs": [],
   "source": []
  }
 ],
 "metadata": {
  "kernelspec": {
   "display_name": "Python 3",
   "language": "python",
   "name": "python3"
  },
  "language_info": {
   "codemirror_mode": {
    "name": "ipython",
    "version": 3
   },
   "file_extension": ".py",
   "mimetype": "text/x-python",
   "name": "python",
   "nbconvert_exporter": "python",
   "pygments_lexer": "ipython3",
   "version": "3.7.3"
  }
 },
 "nbformat": 4,
 "nbformat_minor": 2
}
